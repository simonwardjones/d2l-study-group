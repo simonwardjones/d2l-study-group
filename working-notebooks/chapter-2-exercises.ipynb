{
 "cells": [
  {
   "cell_type": "markdown",
   "metadata": {},
   "source": [
    "# Chapter 2 - Exercises"
   ]
  },
  {
   "cell_type": "markdown",
   "metadata": {
    "heading_collapsed": true
   },
   "source": [
    "## [2.1.8] Exercises (Data manipulation)"
   ]
  },
  {
   "cell_type": "markdown",
   "metadata": {
    "heading_collapsed": true,
    "hidden": true
   },
   "source": [
    "### question 1"
   ]
  },
  {
   "cell_type": "markdown",
   "metadata": {
    "hidden": true
   },
   "source": [
    "1) Run the code in this section. Change the conditional statement X == Y in this section to X < Y or X > Y, and then see what kind of tensor you can get."
   ]
  },
  {
   "cell_type": "markdown",
   "metadata": {
    "hidden": true
   },
   "source": [
    "As expected components are compared elementwise"
   ]
  },
  {
   "cell_type": "markdown",
   "metadata": {
    "heading_collapsed": true,
    "hidden": true
   },
   "source": [
    "### question 2"
   ]
  },
  {
   "cell_type": "markdown",
   "metadata": {
    "hidden": true
   },
   "source": [
    "2) Replace the two tensors that operate by element in the broadcasting mechanism with other shapes, e.g., 3-dimensional tensors. Is the result the same as expected?"
   ]
  },
  {
   "cell_type": "markdown",
   "metadata": {
    "hidden": true
   },
   "source": [
    "As seen below the broadcasting is similar in high dimensions - the tensors are replicated to meet the dimension required"
   ]
  },
  {
   "cell_type": "code",
   "execution_count": 39,
   "metadata": {
    "hidden": true
   },
   "outputs": [],
   "source": [
    "import torch\n",
    "\n",
    "x = torch.tensor([[[1],[43],[2]],[[2],[3],[5]]])\n",
    "y = torch.tensor([[[9,10,3],[1,2,3],[1,2,3]],[[9,10,3],[1,2,3],[1,2,3]]])\n",
    "z = x + y\n",
    "\n",
    "# print(x.shape, y.shape)\n",
    "# print(x, y)\n",
    "# print(z.shape)\n",
    "# print(z)"
   ]
  },
  {
   "cell_type": "markdown",
   "metadata": {
    "heading_collapsed": true
   },
   "source": [
    "## [2.2.5] Exercises (Data pre-processing)"
   ]
  },
  {
   "cell_type": "markdown",
   "metadata": {
    "heading_collapsed": true,
    "hidden": true
   },
   "source": [
    "### Create a raw dataset with more rows and columns."
   ]
  },
  {
   "cell_type": "code",
   "execution_count": 87,
   "metadata": {
    "hidden": true
   },
   "outputs": [],
   "source": [
    "import random\n",
    "from datetime import datetime\n",
    "\n",
    "import numpy as np\n",
    "import pandas as pd\n",
    "from dateutil.relativedelta import relativedelta\n",
    "\n",
    "# First we create example dataframe\n",
    "r = random.Random(12)\n",
    "\n",
    "def generate_random_date_in_last_year():\n",
    "    return (datetime.now() - relativedelta(days=365 * random.random()))\n",
    "\n",
    "\n",
    "dataframe = pd.DataFrame({\n",
    "    \"date_time\": [generate_random_date_in_last_year() for _ in range(10)],\n",
    "    \"animal\": ['zebra', 'NA', 'zebra', 'NA', 'lion', 'lion', 'lion',\n",
    "               'lion', 'rhino', 'rhino', ],\n",
    "    \"category\": ['stripy'] * 4 + ['dangerous'] * 6,\n",
    "    \"name\": ['Walter', 'NA', 'Gyles', 'NA', 'Bartholomew', 'Frederyk',\n",
    "             'Raulf', 'Symond', 'Carlos', 'Arthur'],\n",
    "    \"weight\": [80 + 40 * r.random() for _ in range(10)],\n",
    "    \"favourite_integer\": [r.randint(0, 100) for _ in range(10)],\n",
    "    \"bad_column\": ['', 3, '', 1, None, 2, None, 2, 'NA', 3],\n",
    "    'employed': [bool(r.randint(0, 1)) for i in range(10)]\n",
    "})\n",
    "\n",
    "dataframe.to_csv('../data/animals.csv')"
   ]
  },
  {
   "cell_type": "code",
   "execution_count": 88,
   "metadata": {
    "hidden": true
   },
   "outputs": [
    {
     "data": {
      "text/html": [
       "<div>\n",
       "<style scoped>\n",
       "    .dataframe tbody tr th:only-of-type {\n",
       "        vertical-align: middle;\n",
       "    }\n",
       "\n",
       "    .dataframe tbody tr th {\n",
       "        vertical-align: top;\n",
       "    }\n",
       "\n",
       "    .dataframe thead th {\n",
       "        text-align: right;\n",
       "    }\n",
       "</style>\n",
       "<table border=\"1\" class=\"dataframe\">\n",
       "  <thead>\n",
       "    <tr style=\"text-align: right;\">\n",
       "      <th></th>\n",
       "      <th>date_time</th>\n",
       "      <th>animal</th>\n",
       "      <th>category</th>\n",
       "      <th>name</th>\n",
       "      <th>weight</th>\n",
       "      <th>favourite_integer</th>\n",
       "      <th>bad_column</th>\n",
       "      <th>employed</th>\n",
       "    </tr>\n",
       "  </thead>\n",
       "  <tbody>\n",
       "    <tr>\n",
       "      <th>0</th>\n",
       "      <td>2019-11-10 00:43:27.030039</td>\n",
       "      <td>zebra</td>\n",
       "      <td>stripy</td>\n",
       "      <td>Walter</td>\n",
       "      <td>98.982827</td>\n",
       "      <td>71</td>\n",
       "      <td>NaN</td>\n",
       "      <td>False</td>\n",
       "    </tr>\n",
       "    <tr>\n",
       "      <th>1</th>\n",
       "      <td>2020-08-07 06:50:57.189155</td>\n",
       "      <td>NaN</td>\n",
       "      <td>stripy</td>\n",
       "      <td>NaN</td>\n",
       "      <td>106.298900</td>\n",
       "      <td>0</td>\n",
       "      <td>3.0</td>\n",
       "      <td>False</td>\n",
       "    </tr>\n",
       "    <tr>\n",
       "      <th>2</th>\n",
       "      <td>2019-09-24 00:15:38.189297</td>\n",
       "      <td>zebra</td>\n",
       "      <td>stripy</td>\n",
       "      <td>Gyles</td>\n",
       "      <td>106.656419</td>\n",
       "      <td>84</td>\n",
       "      <td>NaN</td>\n",
       "      <td>False</td>\n",
       "    </tr>\n",
       "    <tr>\n",
       "      <th>3</th>\n",
       "      <td>2020-02-01 16:53:51.739058</td>\n",
       "      <td>NaN</td>\n",
       "      <td>stripy</td>\n",
       "      <td>NaN</td>\n",
       "      <td>85.704014</td>\n",
       "      <td>79</td>\n",
       "      <td>1.0</td>\n",
       "      <td>True</td>\n",
       "    </tr>\n",
       "    <tr>\n",
       "      <th>4</th>\n",
       "      <td>2020-02-16 09:15:32.273208</td>\n",
       "      <td>lion</td>\n",
       "      <td>dangerous</td>\n",
       "      <td>Bartholomew</td>\n",
       "      <td>80.434418</td>\n",
       "      <td>18</td>\n",
       "      <td>NaN</td>\n",
       "      <td>True</td>\n",
       "    </tr>\n",
       "  </tbody>\n",
       "</table>\n",
       "</div>"
      ],
      "text/plain": [
       "                    date_time animal   category         name      weight  \\\n",
       "0  2019-11-10 00:43:27.030039  zebra     stripy       Walter   98.982827   \n",
       "1  2020-08-07 06:50:57.189155    NaN     stripy          NaN  106.298900   \n",
       "2  2019-09-24 00:15:38.189297  zebra     stripy        Gyles  106.656419   \n",
       "3  2020-02-01 16:53:51.739058    NaN     stripy          NaN   85.704014   \n",
       "4  2020-02-16 09:15:32.273208   lion  dangerous  Bartholomew   80.434418   \n",
       "\n",
       "   favourite_integer  bad_column  employed  \n",
       "0                 71         NaN     False  \n",
       "1                  0         3.0     False  \n",
       "2                 84         NaN     False  \n",
       "3                 79         1.0      True  \n",
       "4                 18         NaN      True  "
      ]
     },
     "execution_count": 88,
     "metadata": {},
     "output_type": "execute_result"
    }
   ],
   "source": [
    "animals = pd.read_csv('../data/animals.csv',index_col=0)\n",
    "animals.head()"
   ]
  },
  {
   "cell_type": "markdown",
   "metadata": {
    "heading_collapsed": true,
    "hidden": true
   },
   "source": [
    "### question 1"
   ]
  },
  {
   "cell_type": "markdown",
   "metadata": {
    "hidden": true
   },
   "source": [
    "Delete the column with the most missing values."
   ]
  },
  {
   "cell_type": "code",
   "execution_count": 89,
   "metadata": {
    "hidden": true
   },
   "outputs": [],
   "source": [
    "column_to_delete = max(\n",
    "    [(x, y) for x,y in animals.isna().sum().items()],\n",
    "    key=lambda x: x[1])[0]"
   ]
  },
  {
   "cell_type": "code",
   "execution_count": 90,
   "metadata": {
    "hidden": true
   },
   "outputs": [
    {
     "data": {
      "text/plain": [
       "'bad_column'"
      ]
     },
     "execution_count": 90,
     "metadata": {},
     "output_type": "execute_result"
    }
   ],
   "source": [
    "column_to_delete"
   ]
  },
  {
   "cell_type": "code",
   "execution_count": 91,
   "metadata": {
    "hidden": true
   },
   "outputs": [
    {
     "data": {
      "text/html": [
       "<div>\n",
       "<style scoped>\n",
       "    .dataframe tbody tr th:only-of-type {\n",
       "        vertical-align: middle;\n",
       "    }\n",
       "\n",
       "    .dataframe tbody tr th {\n",
       "        vertical-align: top;\n",
       "    }\n",
       "\n",
       "    .dataframe thead th {\n",
       "        text-align: right;\n",
       "    }\n",
       "</style>\n",
       "<table border=\"1\" class=\"dataframe\">\n",
       "  <thead>\n",
       "    <tr style=\"text-align: right;\">\n",
       "      <th></th>\n",
       "      <th>date_time</th>\n",
       "      <th>animal</th>\n",
       "      <th>category</th>\n",
       "      <th>name</th>\n",
       "      <th>weight</th>\n",
       "      <th>favourite_integer</th>\n",
       "      <th>employed</th>\n",
       "    </tr>\n",
       "  </thead>\n",
       "  <tbody>\n",
       "    <tr>\n",
       "      <th>0</th>\n",
       "      <td>2019-11-10 00:43:27.030039</td>\n",
       "      <td>zebra</td>\n",
       "      <td>stripy</td>\n",
       "      <td>Walter</td>\n",
       "      <td>98.982827</td>\n",
       "      <td>71</td>\n",
       "      <td>False</td>\n",
       "    </tr>\n",
       "    <tr>\n",
       "      <th>1</th>\n",
       "      <td>2020-08-07 06:50:57.189155</td>\n",
       "      <td>NaN</td>\n",
       "      <td>stripy</td>\n",
       "      <td>NaN</td>\n",
       "      <td>106.298900</td>\n",
       "      <td>0</td>\n",
       "      <td>False</td>\n",
       "    </tr>\n",
       "    <tr>\n",
       "      <th>2</th>\n",
       "      <td>2019-09-24 00:15:38.189297</td>\n",
       "      <td>zebra</td>\n",
       "      <td>stripy</td>\n",
       "      <td>Gyles</td>\n",
       "      <td>106.656419</td>\n",
       "      <td>84</td>\n",
       "      <td>False</td>\n",
       "    </tr>\n",
       "    <tr>\n",
       "      <th>3</th>\n",
       "      <td>2020-02-01 16:53:51.739058</td>\n",
       "      <td>NaN</td>\n",
       "      <td>stripy</td>\n",
       "      <td>NaN</td>\n",
       "      <td>85.704014</td>\n",
       "      <td>79</td>\n",
       "      <td>True</td>\n",
       "    </tr>\n",
       "    <tr>\n",
       "      <th>4</th>\n",
       "      <td>2020-02-16 09:15:32.273208</td>\n",
       "      <td>lion</td>\n",
       "      <td>dangerous</td>\n",
       "      <td>Bartholomew</td>\n",
       "      <td>80.434418</td>\n",
       "      <td>18</td>\n",
       "      <td>True</td>\n",
       "    </tr>\n",
       "  </tbody>\n",
       "</table>\n",
       "</div>"
      ],
      "text/plain": [
       "                    date_time animal   category         name      weight  \\\n",
       "0  2019-11-10 00:43:27.030039  zebra     stripy       Walter   98.982827   \n",
       "1  2020-08-07 06:50:57.189155    NaN     stripy          NaN  106.298900   \n",
       "2  2019-09-24 00:15:38.189297  zebra     stripy        Gyles  106.656419   \n",
       "3  2020-02-01 16:53:51.739058    NaN     stripy          NaN   85.704014   \n",
       "4  2020-02-16 09:15:32.273208   lion  dangerous  Bartholomew   80.434418   \n",
       "\n",
       "   favourite_integer  employed  \n",
       "0                 71     False  \n",
       "1                  0     False  \n",
       "2                 84     False  \n",
       "3                 79      True  \n",
       "4                 18      True  "
      ]
     },
     "execution_count": 91,
     "metadata": {},
     "output_type": "execute_result"
    }
   ],
   "source": [
    "no_bad_col = animals.drop(column_to_delete, axis=1)\n",
    "no_bad_col.head()"
   ]
  },
  {
   "cell_type": "markdown",
   "metadata": {
    "heading_collapsed": true,
    "hidden": true
   },
   "source": [
    "### Question 2"
   ]
  },
  {
   "cell_type": "markdown",
   "metadata": {
    "hidden": true
   },
   "source": [
    "Convert the preprocessed dataset to the tensor format."
   ]
  },
  {
   "cell_type": "code",
   "execution_count": 96,
   "metadata": {
    "hidden": true
   },
   "outputs": [],
   "source": [
    "no_bad_col.date_time = pd.to_datetime(no_bad_col.date_time).astype(np.int64)\n",
    "no_bad_col.employed = no_bad_col.employed.astype(int)"
   ]
  },
  {
   "cell_type": "code",
   "execution_count": 97,
   "metadata": {
    "hidden": true
   },
   "outputs": [],
   "source": [
    "inputs = pd.get_dummies(no_bad_col, dummy_na=True)"
   ]
  },
  {
   "cell_type": "code",
   "execution_count": 98,
   "metadata": {
    "hidden": true
   },
   "outputs": [
    {
     "data": {
      "text/plain": [
       "date_time               int64\n",
       "weight                float64\n",
       "favourite_integer       int64\n",
       "employed                int64\n",
       "animal_lion             uint8\n",
       "animal_rhino            uint8\n",
       "animal_zebra            uint8\n",
       "animal_nan              uint8\n",
       "category_dangerous      uint8\n",
       "category_stripy         uint8\n",
       "category_nan            uint8\n",
       "name_Arthur             uint8\n",
       "name_Bartholomew        uint8\n",
       "name_Carlos             uint8\n",
       "name_Frederyk           uint8\n",
       "name_Gyles              uint8\n",
       "name_Raulf              uint8\n",
       "name_Symond             uint8\n",
       "name_Walter             uint8\n",
       "name_nan                uint8\n",
       "dtype: object"
      ]
     },
     "execution_count": 98,
     "metadata": {},
     "output_type": "execute_result"
    }
   ],
   "source": [
    "inputs.dtypes"
   ]
  },
  {
   "cell_type": "code",
   "execution_count": 99,
   "metadata": {
    "hidden": true
   },
   "outputs": [],
   "source": [
    "X = torch.tensor(inputs.values)\n",
    "X"
   ]
  },
  {
   "cell_type": "markdown",
   "metadata": {},
   "source": [
    "## [2.3.13.] Exercises (Linear algebra)"
   ]
  },
  {
   "cell_type": "markdown",
   "metadata": {},
   "source": [
    "### question 1"
   ]
  },
  {
   "cell_type": "markdown",
   "metadata": {},
   "source": [
    "Prove that the transpose of a matrix  𝐀 ’s transpose is  𝐀 :  (𝐀⊤)⊤=𝐀 ."
   ]
  },
  {
   "cell_type": "markdown",
   "metadata": {},
   "source": [
    "Let $$\\mathbf{A} \\in \\mathbb{R}^{m\\times n}$$\n",
    "Let $$i \\in 1\\dots m\\quad j \\in 1\\dots n$$\n",
    "then by the definition of transpose (applied twice)\n",
    "$$\n",
    "\\begin{aligned}\n",
    "\\left[(\\mathbf{A}^T)^T\\right]_{i,j} &= \\left[(\\mathbf{A}^T)\\right]_{j,i} \\\\\n",
    "&= \\left[\\mathbf{A}\\right]_{i,j} \\\\\n",
    "\\implies\n",
    "(\\mathbf{A}^T)^T &= \\mathbf{A}\n",
    "\\end{aligned}\n",
    "$$\n"
   ]
  },
  {
   "cell_type": "markdown",
   "metadata": {},
   "source": [
    "### question 2"
   ]
  },
  {
   "cell_type": "markdown",
   "metadata": {},
   "source": [
    "Given two matrices  𝐀  and  𝐁 , show that the sum of transposes is equal to the transpose of a sum:  𝐀⊤+𝐁⊤=(𝐀+𝐁)⊤ ."
   ]
  },
  {
   "cell_type": "markdown",
   "metadata": {},
   "source": [
    "Let $$\\mathbf{A},\\mathbf{B} \\in \\mathbb{R}^{m\\times n}$$\n",
    "and let $$i \\in 1\\dots m\\quad j \\in 1\\dots n$$"
   ]
  },
  {
   "cell_type": "markdown",
   "metadata": {},
   "source": [
    "$$\n",
    "\\begin{aligned}\n",
    "\\left[\\mathbf{A}^T+\\mathbf{B}^T\\right]_{i,j} \n",
    "&= \\left[\\mathbf{A}^T\\right]_{i,j}+\\left[\\mathbf{B}^T\\right]_{i,j} \\\\\n",
    "&= \\left[\\mathbf{A}\\right]_{j,i}+\\left[\\mathbf{B}\\right]_{j,i} \\\\\n",
    "&= \\left[(\\mathbf{A}+\\mathbf{B})^T\\right]_{j,i} \\\\\n",
    "&= \\left[\\mathbf{A+B}\\right]_{i,j} \\\\\n",
    "\\implies\n",
    "(\\mathbf{A}^T + \\mathbf{B}^T) &= (\\mathbf{A}+\\mathbf{B})^T\n",
    "\\end{aligned}\n",
    "$$"
   ]
  },
  {
   "cell_type": "markdown",
   "metadata": {},
   "source": [
    "### question 3"
   ]
  },
  {
   "cell_type": "markdown",
   "metadata": {},
   "source": [
    "Given any square matrix  𝐀 , is  𝐀+𝐀⊤  always symmetric? Why?"
   ]
  },
  {
   "cell_type": "markdown",
   "metadata": {},
   "source": [
    "Yes - here is a proof"
   ]
  },
  {
   "cell_type": "markdown",
   "metadata": {},
   "source": [
    "Let $$\\mathbf{A} \\in \\mathbb{R}^{n\\times n}$$\n",
    "and let $$i,j \\in 1\\dots n$$"
   ]
  },
  {
   "cell_type": "markdown",
   "metadata": {},
   "source": [
    "Using the previous two questions"
   ]
  },
  {
   "cell_type": "markdown",
   "metadata": {},
   "source": [
    "$$\n",
    "\\begin{aligned}\n",
    "(\\mathbf{A}+\\mathbf{A}^T) ^ T\n",
    "&= \\mathbf{A}^T + (\\mathbf{A}^T)^ T \\quad\\text{from question 2}\\\\\n",
    "&= \\mathbf{A}^T + \\mathbf{A} \\quad\\text{from question 1}\\\\\n",
    "&= \\mathbf{A} + \\mathbf{A}^T\n",
    "\\implies (\\mathbf{A}+\\mathbf{A}^T) \\text{ symmetric}\n",
    "\\end{aligned}\n",
    "$$"
   ]
  },
  {
   "cell_type": "markdown",
   "metadata": {},
   "source": [
    "### question 4"
   ]
  },
  {
   "cell_type": "markdown",
   "metadata": {},
   "source": [
    "We defined the tensor X of shape (2, 3, 4) in this section. What is the output of len(X)?"
   ]
  },
  {
   "cell_type": "code",
   "execution_count": 8,
   "metadata": {},
   "outputs": [
    {
     "data": {
      "text/plain": [
       "2"
      ]
     },
     "execution_count": 8,
     "metadata": {},
     "output_type": "execute_result"
    }
   ],
   "source": [
    "import torch\n",
    "X = torch.ones(size=(2,3,4))\n",
    "len(X)"
   ]
  },
  {
   "cell_type": "markdown",
   "metadata": {},
   "source": [
    "### question 5"
   ]
  },
  {
   "cell_type": "markdown",
   "metadata": {},
   "source": [
    "For a tensor X of arbitrary shape, does len(X) always correspond to the length of a certain axis of X? What is that axis?"
   ]
  },
  {
   "cell_type": "markdown",
   "metadata": {},
   "source": [
    "len returns the legth of the first axis "
   ]
  },
  {
   "cell_type": "markdown",
   "metadata": {},
   "source": [
    "### question 6"
   ]
  },
  {
   "cell_type": "markdown",
   "metadata": {},
   "source": [
    "Run A / A.sum(axis=1) and see what happens. Can you analyze the reason?"
   ]
  },
  {
   "cell_type": "code",
   "execution_count": 10,
   "metadata": {},
   "outputs": [],
   "source": [
    "# A = torch.arange(20).reshape(5, 4)\n",
    "# A / A.sum(axis=1)"
   ]
  },
  {
   "cell_type": "markdown",
   "metadata": {},
   "source": [
    "The error is because the dimension (5,4) and (5) don't match or allow for broad casting. use keep_dims to fix."
   ]
  },
  {
   "cell_type": "markdown",
   "metadata": {},
   "source": [
    "### question 7"
   ]
  },
  {
   "cell_type": "markdown",
   "metadata": {},
   "source": [
    "When traveling between two points in Manhattan, what is the distance that you need to cover in terms of the coordinates, i.e., in terms of avenues and streets? Can you travel diagonally?"
   ]
  },
  {
   "cell_type": "markdown",
   "metadata": {},
   "source": [
    "Along the blocks and up the avenues with no diagonals ... this is referring to the $L_1$ norm. Also known as the Manhattan distance."
   ]
  },
  {
   "cell_type": "markdown",
   "metadata": {},
   "source": [
    "### question 8"
   ]
  },
  {
   "cell_type": "markdown",
   "metadata": {},
   "source": [
    "Consider a tensor with shape (2, 3, 4). What are the shapes of the summation outputs along axis 0, 1, and 2?"
   ]
  },
  {
   "cell_type": "code",
   "execution_count": 14,
   "metadata": {},
   "outputs": [
    {
     "data": {
      "text/plain": [
       "((3, 4), (2, 4), (2, 3))"
      ]
     },
     "execution_count": 14,
     "metadata": {},
     "output_type": "execute_result"
    }
   ],
   "source": [
    "(3,4),(2,4),(2,3)"
   ]
  },
  {
   "cell_type": "markdown",
   "metadata": {},
   "source": [
    "### question 9"
   ]
  },
  {
   "cell_type": "markdown",
   "metadata": {},
   "source": [
    "Feed a tensor with 3 or more axes to the linalg.norm function and observe its output. What does this function compute for tensors of arbitrary shape?"
   ]
  },
  {
   "cell_type": "code",
   "execution_count": 16,
   "metadata": {},
   "outputs": [
    {
     "data": {
      "text/plain": [
       "tensor(4.8990)"
      ]
     },
     "execution_count": 16,
     "metadata": {},
     "output_type": "execute_result"
    }
   ],
   "source": [
    "torch.norm(X)"
   ]
  },
  {
   "cell_type": "code",
   "execution_count": 23,
   "metadata": {},
   "outputs": [
    {
     "data": {
      "text/plain": [
       "tensor(4.8990)"
      ]
     },
     "execution_count": 23,
     "metadata": {},
     "output_type": "execute_result"
    }
   ],
   "source": [
    "# really this is the root of the sum of the square of each element \n",
    "sum(X ** 2).sum() ** 0.5"
   ]
  },
  {
   "cell_type": "markdown",
   "metadata": {
    "heading_collapsed": true
   },
   "source": [
    "## (Calculus)"
   ]
  },
  {
   "cell_type": "code",
   "execution_count": null,
   "metadata": {
    "hidden": true
   },
   "outputs": [],
   "source": []
  }
 ],
 "metadata": {
  "kernelspec": {
   "display_name": "Python 3",
   "language": "python",
   "name": "python3"
  },
  "language_info": {
   "codemirror_mode": {
    "name": "ipython",
    "version": 3
   },
   "file_extension": ".py",
   "mimetype": "text/x-python",
   "name": "python",
   "nbconvert_exporter": "python",
   "pygments_lexer": "ipython3",
   "version": "3.7.8"
  },
  "toc": {
   "base_numbering": 1,
   "nav_menu": {},
   "number_sections": true,
   "sideBar": true,
   "skip_h1_title": false,
   "title_cell": "Table of Contents",
   "title_sidebar": "Contents",
   "toc_cell": false,
   "toc_position": {},
   "toc_section_display": true,
   "toc_window_display": false
  }
 },
 "nbformat": 4,
 "nbformat_minor": 4
}
